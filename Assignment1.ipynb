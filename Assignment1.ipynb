{
  "nbformat": 4,
  "nbformat_minor": 0,
  "metadata": {
    "colab": {
      "name": "Untitled0.ipynb",
      "provenance": [],
      "authorship_tag": "ABX9TyNfGbk/nBCfcuFD2Wxl61yr",
      "include_colab_link": true
    },
    "kernelspec": {
      "name": "python3",
      "display_name": "Python 3"
    },
    "language_info": {
      "name": "python"
    }
  },
  "cells": [
    {
      "cell_type": "markdown",
      "metadata": {
        "id": "view-in-github",
        "colab_type": "text"
      },
      "source": [
        "<a href=\"https://colab.research.google.com/github/AR-Learn/Reactivities/blob/master/Assignment1.ipynb\" target=\"_parent\"><img src=\"https://colab.research.google.com/assets/colab-badge.svg\" alt=\"Open In Colab\"/></a>"
      ]
    },
    {
      "cell_type": "code",
      "execution_count": null,
      "metadata": {
        "colab": {
          "base_uri": "https://localhost:8080/"
        },
        "id": "_jNjz9tKxVbg",
        "outputId": "9b1c85b2-8164-4817-a8c3-d5946ba612c5"
      },
      "outputs": [
        {
          "output_type": "stream",
          "name": "stdout",
          "text": [
            "Input Text : Let us Meet tomorrow at Two\n",
            "Cipher: Vo~*}*Woo~*~ywy||y*k~*^y\n"
          ]
        }
      ],
      "source": [
        "def CaesarEncrypt(cipherText,shifttText):\n",
        "  CaesarCipher = \"\"\n",
        "  # check the length and then shift the alphabets \n",
        "  for i in range(len(cipherText)):\n",
        "    encryptChar = cipherText[i]\n",
        "    CaesarCipher += chr((ord(encryptChar)+ shifttText))\n",
        "  return CaesarCipher\n",
        "\n",
        "#Test Code\n",
        "cipherText = \"Let us Meet tomorrow at Two\"\n",
        "shifttText = 10\n",
        "\n",
        "print(\"Input Text : \" + cipherText)\n",
        "print(\"Cipher: \" + CaesarEncrypt(cipherText,shifttText))\n"
      ]
    }
  ]
}