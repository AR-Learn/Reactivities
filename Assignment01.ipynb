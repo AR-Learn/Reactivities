{
  "nbformat": 4,
  "nbformat_minor": 0,
  "metadata": {
    "colab": {
      "name": "Copy of Untitled0.ipynb",
      "provenance": [],
      "authorship_tag": "ABX9TyO3o10LJNb8GS8AabDxv8Nk",
      "include_colab_link": true
    },
    "kernelspec": {
      "name": "python3",
      "display_name": "Python 3"
    },
    "language_info": {
      "name": "python"
    }
  },
  "cells": [
    {
      "cell_type": "markdown",
      "metadata": {
        "id": "view-in-github",
        "colab_type": "text"
      },
      "source": [
        "<a href=\"https://colab.research.google.com/github/AR-Learn/Reactivities/blob/master/Assignment01.ipynb\" target=\"_parent\"><img src=\"https://colab.research.google.com/assets/colab-badge.svg\" alt=\"Open In Colab\"/></a>"
      ]
    },
    {
      "cell_type": "code",
      "execution_count": null,
      "metadata": {
        "colab": {
          "base_uri": "https://localhost:8080/"
        },
        "id": "_jNjz9tKxVbg",
        "outputId": "be7a5145-0a37-4358-fe18-480a77b8348f"
      },
      "outputs": [
        {
          "output_type": "stream",
          "name": "stdout",
          "text": [
            "Text to Encrypt  : Let us Meet tomorrow at Two\n",
            "Caesar Cipher: Vo~*}*Woo~*~ywy||y*k~*^y\n"
          ]
        }
      ],
      "source": [
        "def CaesarEncrypt(cipherText,shifttText):\n",
        "  CaesarCipher = \"\"\n",
        "  # check the length and then shift the alphabets based on shift Text value \n",
        "  for i in range(len(cipherText)):\n",
        "    encryptChar = cipherText[i]\n",
        "    CaesarCipher += chr((ord(encryptChar)+ shifttText))\n",
        "  return CaesarCipher\n",
        "\n",
        "#Test Code\n",
        "cipherText = \"Let us Meet tomorrow at Two\"\n",
        "shifttText = 10\n",
        "\n",
        "print(\"Text to Encrypt  : \" + cipherText)\n",
        "print(\"Caesar Cipher: \" + CaesarEncrypt(cipherText,shifttText))\n"
      ]
    },
    {
      "cell_type": "code",
      "source": [
        "def RailFenceEncrypt(cipherText,shifttText):\n",
        "  RailFenceText = \"\"\n",
        "  arr=[[\" \" for i in range(len(cipherText))] for j in range(shifttText)]\n",
        " \n",
        "  check=0\n",
        "  rowVal=0\n",
        "\n",
        "  for i in range(len(cipherText)):\n",
        "    arr[rowVal][i]=cipherText[i]\n",
        "    if rowVal==0:\n",
        "      check=0\n",
        "    elif rowVal==shifttText-1:\n",
        "      check=1\n",
        "    if check==0:\n",
        "      rowVal+=1\n",
        "    else:\n",
        "      rowVal-=1\n",
        "\n",
        "\n",
        "  resultArr=[]\n",
        "  for i in range(shifttText):\n",
        "    for j in range(len(cipherText)):\n",
        "        if arr[i][j]!=' ':\n",
        "            resultArr.append(arr[i][j])\n",
        "  \n",
        "  encryptCipher=\"\".join(resultArr)\n",
        "  return encryptCipher\n",
        "\n",
        "  \n",
        "\n",
        "#Test Code\n",
        "cipherText = \"Let us Meet tomorrow at Two\"\n",
        "shifttText = 5\n",
        "\n",
        "print(\"Text to Encrypt : \" + cipherText)\n",
        "print(\"Rail Fence Cipher: \" + RailFenceEncrypt(cipherText,shifttText))\n"
      ],
      "metadata": {
        "colab": {
          "base_uri": "https://localhost:8080/"
        },
        "id": "fsa4xEhT4f2t",
        "outputId": "8553ea4d-3759-469f-9279-c224890d42fe"
      },
      "execution_count": null,
      "outputs": [
        {
          "output_type": "stream",
          "name": "stdout",
          "text": [
            "Text to Encrypt : Let us Meet tomorrow at Two\n",
            "Rail Fence Cipher: LerTeMeorwttmotosowaut\n"
          ]
        }
      ]
    }
  ]
}